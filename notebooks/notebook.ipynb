{
 "cells": [
  {
   "cell_type": "code",
   "execution_count": null,
   "id": "29b93b2c",
   "metadata": {},
   "outputs": [],
   "source": [
    "from dotenv import load_dotenv\n",
    "from openai import OpenAI\n",
    "\n",
    "import os\n",
    "\n",
    "load_dotenv() # loads our .env file\n",
    "\n",
    "api_key = os.getenv(\"OPENAI_API_KEY\") # grabs the envvar\n",
    "\n",
    "def connect_to_openai() -> OpenAI:\n",
    "    client = OpenAI(api_key=api_key)\n",
    "    return client"
   ]
  }
 ],
 "metadata": {
  "language_info": {
   "name": "python"
  }
 },
 "nbformat": 4,
 "nbformat_minor": 5
}
